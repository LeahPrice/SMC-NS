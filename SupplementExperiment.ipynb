{
 "cells": [
  {
   "cell_type": "code",
   "execution_count": null,
   "id": "69224bf4-4b54-4d06-b2bc-7f694d63deec",
   "metadata": {},
   "outputs": [],
   "source": [
    "import numpy as np \n",
    "import matplotlib.pyplot as plt \n",
    "np.random.seed(123)"
   ]
  },
  {
   "cell_type": "code",
   "execution_count": null,
   "id": "df902e50-21b9-42ee-a7aa-ce6013b893ef",
   "metadata": {},
   "outputs": [],
   "source": [
    "iters = 50000\n",
    "N = 100\n",
    "t = np.arange(0,iters+1,1)\n",
    "\n",
    "n_e = ((N-1)/(N))**t\n",
    "exp_e = np.exp(-t/N) \n",
    "\n",
    "replications = 10000\n",
    "\n",
    "h_mat = np.zeros((replications, iters+1))\n",
    "e1 = np.zeros_like(h_mat)\n",
    "e2 = np.zeros_like(h_mat) \n",
    "\n",
    "x_log = np.ones_like(h_mat)\n",
    "\n",
    "for r in range(replications):\n",
    "    #if r%100 == 0: print(r)     \n",
    "    hist = [1] \n",
    "    x = np.random.rand(N)\n",
    "    \n",
    "    for k in range(iters):\n",
    "        x = np.sort(x)\n",
    "        v = x[-1] # maximum x is minimum L\n",
    "        x_log[r,k+1] = v \n",
    "        hist.append(v)\n",
    "        x[-1] = v * np.random.rand() # draw from U(L,1)\n",
    "    \n",
    "    h = np.array(hist) \n",
    "    h_mat[r, :] = h\n",
    "    \n",
    "print(\"Done!\") "
   ]
  },
  {
   "cell_type": "code",
   "execution_count": null,
   "id": "54f3fb18-b18c-40c7-844a-50e7534bd915",
   "metadata": {},
   "outputs": [],
   "source": [
    "def s2l(num):\n",
    "    # Split the scientific notation into base and exponent\n",
    "    base, exponent = f\"{num:.2e}\".split('e')\n",
    "    \n",
    "    # Format base and exponent in LaTeX format\n",
    "    base = float(base)  # Convert base to float for proper formatting\n",
    "    return f\"{base:.1f}\" + r\" \\times \" + f\"10^{{{int(exponent)}}}\"\n",
    "\n",
    "vals = [1000 + 2000*k for k in range(25)]\n",
    "print('iter, exp, walter,  mean', 'median') \n",
    "for v in vals: \n",
    "    hh = h_mat[:, v+1] \n",
    "    print(f\"{v} & ${s2l(exp_e[v])}$ & ${s2l(n_e[v])}$ & ${s2l(np.mean(hh))}$ & ${s2l(np.median(hh))}$\" + r\" \\\\\")"
   ]
  },
  {
   "cell_type": "code",
   "execution_count": null,
   "id": "699f80c1-86ce-49f0-ab53-f1652824e883",
   "metadata": {
    "scrolled": true
   },
   "outputs": [],
   "source": [
    "L = lambda x, v: 0.1*(1-x) + 1.9*(x<v)*(v-x)/(v**2)\n",
    "\n",
    "def L2(x, v):\n",
    "    val = 0.1*(1-x) + 1.9*np.exp(np.log((x<v)*np.abs(v-x)) - 2*np.log(v))\n",
    "    return val "
   ]
  },
  {
   "cell_type": "code",
   "execution_count": null,
   "id": "2cffc17b-b890-4e15-b26f-1fcc15e64a05",
   "metadata": {},
   "outputs": [],
   "source": [
    "def integrate(x, v, N, exp_mode=False): \n",
    "    res = np.zeros(x.shape[0]) \n",
    "    Lvals = L2(x, v) \n",
    "    \n",
    "    if exp_mode:\n",
    "        w = lambda t: np.exp(-t/N) \n",
    "    else: \n",
    "        w = lambda t: ((N-1)/N)**t\n",
    "  \n",
    "    for t in range(1,x.shape[1]):\n",
    "        sh = (w(t-1)-w(t))\n",
    "        res += Lvals[:,t] * sh\n",
    "\n",
    "    return res "
   ]
  },
  {
   "cell_type": "code",
   "execution_count": null,
   "id": "c71b0f20-2f91-425a-913c-5f248a85d240",
   "metadata": {},
   "outputs": [],
   "source": [
    "p = [10**(-k) for k in range(1,150,2)]\n",
    "\n",
    "Z_e = np.zeros((len(p), replications))\n",
    "Z_n = np.zeros_like(Z_e)\n",
    "\n",
    "for k, _p in enumerate(p): \n",
    "    Z_e[k,:] = integrate(x_log, N=100, v = _p, exp_mode=True)\n",
    "    Z_n[k,:] = integrate(x_log, N=100, v = _p, exp_mode=False)            \n",
    "\n",
    "# note that divide by zero warning is just for when the second term in L2 is zero (np.exp(-np.inf))"
   ]
  },
  {
   "cell_type": "code",
   "execution_count": null,
   "id": "919ce6a9-f451-412f-ae2b-382f9aaa5c5a",
   "metadata": {},
   "outputs": [],
   "source": [
    "np.save('Z_e2.npy', Z_e)\n",
    "np.save('Z_n2.npy', Z_n)"
   ]
  },
  {
   "cell_type": "code",
   "execution_count": null,
   "id": "ec1e4d18-1af6-49e0-b3be-c29ec8c4e1a8",
   "metadata": {},
   "outputs": [],
   "source": [
    "#Z_e = np.load('Z_e.npy') \n",
    "#Z_n = np.load('Z_n.npy')"
   ]
  },
  {
   "cell_type": "code",
   "execution_count": null,
   "id": "03d8a40d-1a05-4cb5-97b0-4e68ed806f5b",
   "metadata": {},
   "outputs": [],
   "source": [
    "meanZ_e = np.mean(Z_e, axis=1)\n",
    "stdZ_e = np.std(Z_e, axis=1)\n",
    "meanZ_n = np.mean(Z_n, axis=1) \n",
    "stdZ_n = np.std(Z_n, axis=1) \n",
    "\n",
    "mean_log_Z_e = np.mean(np.log(Z_e), axis=1)\n",
    "std_log_Z_e = np.std(np.log(Z_e), axis=1)\n",
    "mean_log_Z_n = np.mean(np.log(Z_n), axis=1) \n",
    "std_log_Z_n = np.std(np.log(Z_n), axis=1) "
   ]
  },
  {
   "cell_type": "code",
   "execution_count": null,
   "id": "634b2677-2899-4fb3-bb7f-a2f1496a1c71",
   "metadata": {},
   "outputs": [],
   "source": [
    "# # logscale computation, gives same results for this example but much slower!\n",
    "\n",
    "# from scipy.special import logsumexp\n",
    "# def integrate_logscale(x, v, N, exp_mode=False): \n",
    "    \n",
    "#     res = -np.inf * np.ones(x.shape[0]) \n",
    "#     Lvals = L2(x, v) \n",
    "    \n",
    "#     if exp_mode:\n",
    "#         w = lambda t: np.exp(-t/N) \n",
    "#     else: \n",
    "#         w = lambda t: ((N-1)/N)**t\n",
    "  \n",
    "#     for t in range(1,x.shape[1]):\n",
    "#         sh = (w(t-1)-w(t))\n",
    "#         # update z = z + w*L is now log z = log ( exp(log(z)) + exp(log(w*L)) ) \n",
    "#         res = logsumexp([res, np.log(Lvals[:,t])+np.log(sh)], axis=0) \n",
    "\n",
    "#     return res    \n",
    "\n",
    "# p = [10**(-k) for k in range(1,150,5)]\n",
    "\n",
    "# Z_e = np.zeros((len(p), replications))\n",
    "# Z_n = np.zeros_like(Z_e)\n",
    "\n",
    "# for k, _p in enumerate(p): \n",
    "#     print(_p)\n",
    "#     Z_e[k,:] = integrate_logscale(x_log, N=100, v = _p, exp_mode=True)\n",
    "#     Z_n[k,:] = integrate_logscale(x_log, N=100, v = _p, exp_mode=False)            \n",
    "\n",
    "# meanZ_e = np.mean(np.exp(Z_e), axis=1)\n",
    "# stdZ_e = np.std(np.exp(Z_e), axis=1)\n",
    "# meanZ_n = np.mean(np.exp(Z_n), axis=1) \n",
    "# stdZ_n = np.std(np.exp(Z_n), axis=1) \n",
    "\n",
    "# mean_log_Z_e = np.mean(Z_e, axis=1)\n",
    "# std_log_Z_e = np.std(Z_e, axis=1)\n",
    "# mean_log_Z_n = np.mean(Z_n, axis=1) \n",
    "# std_log_Z_n = np.std(Z_n, axis=1) \n",
    "\n",
    "# print(meanZ_e, std_log_Z_e)"
   ]
  },
  {
   "cell_type": "code",
   "execution_count": null,
   "id": "c73e9781-d4ef-4bb9-8c44-ac4fba08c843",
   "metadata": {},
   "outputs": [],
   "source": [
    "#plt.close() \n",
    "p = [10**(-k) for k in range(1,150,2)]\n",
    "plt.figure(figsize=(10,5))\n",
    "plt.subplot(1,2,1)\n",
    "\n",
    "plt.axhline(y = 1, color = 'k', linestyle = ':')\n",
    "plt.semilogx(p, meanZ_n, 'b-', linewidth=3, label = r'$((N-1)/N)^t$')\n",
    "plt.semilogx(p, meanZ_n + stdZ_n, 'b-', alpha=0.5)\n",
    "plt.semilogx(p, meanZ_n - stdZ_n, 'b-', alpha=0.5)\n",
    "\n",
    "plt.semilogx(p, meanZ_e, 'r--', linewidth=3, label=r'$\\exp(-t/N)$')\n",
    "plt.semilogx(p, meanZ_e + stdZ_e, 'r--', alpha=0.5)\n",
    "plt.semilogx(p, meanZ_e - stdZ_e, 'r--', alpha=0.5)\n",
    "\n",
    "\n",
    "plt.xlabel(r'$v$')\n",
    "plt.title(r'$\\mathcal{Z}$')\n",
    "plt.legend() \n",
    "\n",
    "plt.subplot(1,2,2)\n",
    "plt.axhline(y = 0, color = 'k', linestyle = ':')\n",
    "plt.semilogx(p, mean_log_Z_n, 'b-', linewidth=3, label=r'$((N-1)/N)^t$')\n",
    "plt.semilogx(p, mean_log_Z_n + std_log_Z_n, 'b-', alpha=0.5)\n",
    "plt.semilogx(p, mean_log_Z_n - std_log_Z_n, 'b-', alpha=0.5)\n",
    "\n",
    "plt.semilogx(p, mean_log_Z_e, 'r--', linewidth=3, label = r'$\\exp(-t/N)$')\n",
    "plt.semilogx(p, mean_log_Z_e + std_log_Z_e, 'r--', alpha=0.5)\n",
    "plt.semilogx(p, mean_log_Z_e - std_log_Z_e, 'r--', alpha=0.5)\n",
    "plt.xlabel(r'$v$')\n",
    "plt.title(r'$\\log \\mathcal{Z}$')\n",
    "plt.legend() \n",
    "plt.show()\n",
    "\n",
    "#plt.savefig('Zvar.pdf')"
   ]
  },
  {
   "cell_type": "code",
   "execution_count": null,
   "id": "6a6ba1d0-99b5-45ac-a7c1-f3256499deb2",
   "metadata": {},
   "outputs": [],
   "source": [
    "medZ_e = np.median(Z_e, axis=1)\n",
    "lowZ_e = np.quantile(Z_e, 0.05, axis=1)\n",
    "lowZ_e2 = np.quantile(Z_e, 0.25, axis=1)\n",
    "upZ_e = np.quantile(Z_e, 0.95, axis=1)\n",
    "upZ_e2 = np.quantile(Z_e, 0.75, axis=1)\n",
    "\n",
    "medZ_n = np.median(Z_n, axis=1)\n",
    "lowZ_n = np.quantile(Z_n, 0.05, axis=1)\n",
    "lowZ_n2 = np.quantile(Z_n, 0.25, axis=1)\n",
    "\n",
    "upZ_n = np.quantile(Z_n, 0.95, axis=1)\n",
    "upZ_n2 = np.quantile(Z_n, 0.75, axis=1)"
   ]
  },
  {
   "cell_type": "code",
   "execution_count": null,
   "id": "30f7a423-69ff-47c9-8b0d-de3a1c6ca145",
   "metadata": {},
   "outputs": [],
   "source": [
    "fig, (ax1, ax2) = plt.subplots(1, 2, sharex=True, sharey=True, figsize=(10,5))\n",
    "\n",
    "plt.subplot(1,2,1)\n",
    "plt.semilogx(p, medZ_e, 'r') \n",
    "plt.fill_between(p, lowZ_e, upZ_e,  color='r', alpha=0.1)\n",
    "plt.fill_between(p, lowZ_e2, upZ_e2, color='r', alpha=0.15)\n",
    "plt.axhline(y = 1, color = 'k', linestyle = ':')\n",
    "plt.title(r'$\\exp(-t/N)$')\n",
    "plt.xlabel(r'$v$')\n",
    "\n",
    "plt.subplot(1,2,2)\n",
    "plt.semilogx(p, medZ_n, 'b')\n",
    "plt.fill_between(p, lowZ_n, upZ_n,  color='b', alpha=0.1)\n",
    "plt.fill_between(p, lowZ_n2, upZ_n2, color='b', alpha=0.15)\n",
    "plt.axhline(y = 1, color = 'k', linestyle = ':')\n",
    "plt.title(r'$((N-1)/N)^t$')\n",
    "plt.xlabel(r'$v$')\n",
    "plt.show()\n",
    "#plt.savefig('Zquantiles.pdf') "
   ]
  }
 ],
 "metadata": {
  "kernelspec": {
   "display_name": "Python [conda env:anaconda3-Best]",
   "language": "python",
   "name": "conda-env-anaconda3-Best-py"
  },
  "language_info": {
   "codemirror_mode": {
    "name": "ipython",
    "version": 3
   },
   "file_extension": ".py",
   "mimetype": "text/x-python",
   "name": "python",
   "nbconvert_exporter": "python",
   "pygments_lexer": "ipython3",
   "version": "3.12.7"
  }
 },
 "nbformat": 4,
 "nbformat_minor": 5
}
